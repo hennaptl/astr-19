{
 "cells": [
  {
   "cell_type": "code",
   "execution_count": 18,
   "id": "cfc96ed9-ffa2-419d-9825-d7ce1f764348",
   "metadata": {},
   "outputs": [],
   "source": [
    "%matplotlib inline\n",
    "import matplotlib.pyplot as plt\n",
    "import numpy as np"
   ]
  },
  {
   "cell_type": "code",
   "execution_count": 28,
   "id": "223c3cbc-7004-4998-aace-07ccdf45b442",
   "metadata": {},
   "outputs": [
    {
     "data": {
      "image/png": "[encoded data removed]",
      "text/plain": [
       "<Figure size 640x480 with 1 Axes>"
      ]
     },
     "metadata": {},
     "output_type": "display_data"
    },
    {
     "data": {
      "text/plain": [
       "<Figure size 640x480 with 0 Axes>"
      ]
     },
     "metadata": {},
     "output_type": "display_data"
    }
   ],
   "source": [
    "#creates a random distribution from [0,1] with 1000 numbers\n",
    "data = np.random.uniform(0,1,1000)\n",
    "\n",
    "#helps readability \n",
    "width = 0.5\n",
    "\n",
    "histmin=np.floor(min(x)) #whole num rounded down\n",
    "histmax=np.ceil(max(x)) + width #whole num rounded up\n",
    "bins=np.arange(histmin,histmax, width)\n",
    "plt.hist(data, bins = 100, edgecolor=\"black\") #creates the hist properties\n",
    "\n",
    "#these label the axes of the plot!\n",
    "plt.ylabel('y')\n",
    "plt.xlabel('x')\n",
    "\n",
    "plt.show()\n",
    "plt.savefig(\"entry_9_hist.pdf\", bbox_inches=\"tight\",facecolor = \"white\")\n",
    "#saved as a pdf because of the .pdf and \"tight\" and \"white\" made it easier to look at"
   ]
  },
  {
   "cell_type": "code",
   "execution_count": null,
   "id": "155afe83-ef7f-4d0d-a925-988b83419301",
   "metadata": {},
   "outputs": [],
   "source": []
  }
 ],
 "metadata": {
  "kernelspec": {
   "display_name": "Python 3 (ipykernel)",
   "language": "python",
   "name": "python3"
  },
  "language_info": {
   "codemirror_mode": {
    "name": "ipython",
    "version": 3
   },
   "file_extension": ".py",
   "mimetype": "text/x-python",
   "name": "python",
   "nbconvert_exporter": "python",
   "pygments_lexer": "ipython3",
   "version": "3.13.7"
  }
 },
 "nbformat": 4,
 "nbformat_minor": 5
}
