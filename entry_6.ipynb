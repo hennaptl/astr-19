{
 "cells": [
  {
   "cell_type": "markdown",
   "id": "b3216374-c8bd-4c0b-a61d-0beb792d2f80",
   "metadata": {},
   "source": [
    "#defining sin(x) and cos(x) with numpy import"
   ]
  },
  {
   "cell_type": "code",
   "execution_count": 7,
   "id": "5986bdf4-f4a6-4295-9caf-9046bb1b15d3",
   "metadata": {},
   "outputs": [],
   "source": [
    "import numpy as np\n",
    "\n",
    "def compute_sin(x):\n",
    "    return np.sin(x)"
   ]
  },
  {
   "cell_type": "markdown",
   "id": "19a74040-7964-4afd-8d8f-cb289600e291",
   "metadata": {},
   "source": [
    "#now we do the same for cos(x)"
   ]
  },
  {
   "cell_type": "code",
   "execution_count": 8,
   "id": "8c0c037e-b525-42a4-b00b-a302f16a8fde",
   "metadata": {},
   "outputs": [],
   "source": [
    "def compute_cos(x):\n",
    "    return np.cos(x)"
   ]
  },
  {
   "cell_type": "markdown",
   "id": "f28a07a0-085d-4a5f-a950-7268ab201316",
   "metadata": {},
   "source": [
    "#compute takes sin(x) and cos)x) for each number and returns it"
   ]
  },
  {
   "cell_type": "code",
   "execution_count": 9,
   "id": "a7e554ce-36e1-49be-bb39-b9e55c011772",
   "metadata": {},
   "outputs": [],
   "source": [
    "x_values = np.linspace(0, 2, 1000)\n",
    "\n",
    "sin_values = compute_sin(x_values)\n",
    "cos_values = compute_cos(x_values)"
   ]
  },
  {
   "cell_type": "markdown",
   "id": "6b4350a6-8991-44c1-a29f-501cb1114c79",
   "metadata": {},
   "source": [
    "#here we use the two cells to calculate the sin and cos from 0-2pi"
   ]
  },
  {
   "cell_type": "code",
   "execution_count": 10,
   "id": "3d0cf378-677c-40fd-b551-0bad8c5f7198",
   "metadata": {},
   "outputs": [
    {
     "name": "stdout",
     "output_type": "stream",
     "text": [
      "x sin(x) cos(x)\n",
      "0.0 0.0 1.0\n",
      "0.002002002002002002 0.0020020006646609234 0.9999979959946613\n",
      "0.004004004004004004 0.004003993305281807 0.9999919839866774\n",
      "0.006006006006006006 0.0060059698978547705 0.9999819640001444\n",
      "0.008008008008008008 0.008007922418436255 0.9999679360752225\n",
      "0.01001001001001001 0.010009842843179184 0.9999499002681359\n",
      "0.012012012012012012 0.012011723148365119 0.9999278566511721\n",
      "0.014014014014014014 0.014013555310436422 0.9999018053126824\n",
      "0.016016016016016016 0.016015331306028415 0.9998717463570806\n",
      "0.018018018018018018 0.01801704311200153 0.9998376799048435\n"
     ]
    }
   ],
   "source": [
    "print(f\"{'x'} {'sin(x)'} {'cos(x)'}\")\n",
    "\n",
    "\n",
    "# Print first 10 values\n",
    "for i in range(10):\n",
    "    x = x_values[i]\n",
    "    sin_x = sin_values[i]\n",
    "    cos_x = cos_values[i]\n",
    "    print(f\"{x} {sin_x} {cos_x}\")"
   ]
  },
  {
   "cell_type": "markdown",
   "id": "023696d6-25a3-4a7b-8d1c-79f174a435da",
   "metadata": {},
   "source": [
    "#lastly, we make it so  we print out only the first 10 rows "
   ]
  },
  {
   "cell_type": "code",
   "execution_count": 11,
   "id": "992c22fb-ec6b-44ca-86ad-a8564cbaa424",
   "metadata": {},
   "outputs": [
    {
     "name": "stdout",
     "output_type": "stream",
     "text": [
      "0.0 0.0 1.0\n",
      "0.002002002002002002 0.0020020006646609234 0.9999979959946613\n",
      "0.004004004004004004 0.004003993305281807 0.9999919839866774\n",
      "0.006006006006006006 0.0060059698978547705 0.9999819640001444\n",
      "0.008008008008008008 0.008007922418436255 0.9999679360752225\n",
      "0.01001001001001001 0.010009842843179184 0.9999499002681359\n",
      "0.012012012012012012 0.012011723148365119 0.9999278566511721\n",
      "0.014014014014014014 0.014013555310436422 0.9999018053126824\n",
      "0.016016016016016016 0.016015331306028415 0.9998717463570806\n",
      "0.018018018018018018 0.01801704311200153 0.9998376799048435\n"
     ]
    }
   ],
   "source": [
    "for i in range(10):\n",
    "    x = x_values[i]\n",
    "    sin_x = sin_values[i]\n",
    "    cos_x = cos_values[i]\n",
    "    print(f\"{x} {sin_x} {cos_x}\")"
   ]
  }
 ],
 "metadata": {
  "kernelspec": {
   "display_name": "Python 3 (ipykernel)",
   "language": "python",
   "name": "python3"
  },
  "language_info": {
   "codemirror_mode": {
    "name": "ipython",
    "version": 3
   },
   "file_extension": ".py",
   "mimetype": "text/x-python",
   "name": "python",
   "nbconvert_exporter": "python",
   "pygments_lexer": "ipython3",
   "version": "3.13.7"
  }
 },
 "nbformat": 4,
 "nbformat_minor": 5
}
